{
 "cells": [
  {
   "cell_type": "code",
   "execution_count": 1,
   "id": "9d76ec7c-9a84-4acf-81b0-cda42b1c1cb7",
   "metadata": {},
   "outputs": [],
   "source": [
    "import pickle\n",
    "import pandas as pd\n",
    "\n",
    "from sklearn import tree\n",
    "from sklearn.metrics import classification_report, accuracy_score, confusion_matrix, roc_curve, roc_auc_score\n",
    "\n",
    "import matplotlib.pyplot as plt\n",
    "import seaborn as sns"
   ]
  },
  {
   "cell_type": "code",
   "execution_count": 2,
   "id": "748bfa0f-09b8-4fd7-a0e0-efef052db0ec",
   "metadata": {},
   "outputs": [],
   "source": [
    "train = pd.read_csv(\"task2_allData.csv\")\n",
    "test_public = pd.read_csv(\"task2_public_test_data.csv\")\n",
    "test = pd.read_csv(\"task2_private_test_data.csv\")"
   ]
  },
  {
   "cell_type": "code",
   "execution_count": 3,
   "id": "3a3ec84d-2d13-45d7-9393-8d1b1ff0fceb",
   "metadata": {},
   "outputs": [],
   "source": [
    "train = pd.merge(train, test_public, how = \"outer\")"
   ]
  },
  {
   "cell_type": "code",
   "execution_count": 4,
   "id": "69a1ec40-6ead-41a8-a7e1-35653d58f5be",
   "metadata": {},
   "outputs": [],
   "source": [
    "x_train = train.drop([\"AnswerValue\", \"AnswerId\"], axis=1)\n",
    "y_train = train.AnswerValue\n",
    "x_test = test.drop([\"AnswerValue\", \"AnswerId\"], axis=1)\n",
    "y_test = test.AnswerValue"
   ]
  },
  {
   "cell_type": "code",
   "execution_count": 5,
   "id": "fd0475be-c677-4028-8711-88b25f25e6cf",
   "metadata": {},
   "outputs": [],
   "source": [
    "categorical_features = [\"UserId\", \"QuestionId\", \"QuizId\", \"GroupId\", \"SchemeOfWorkId\",\n",
    "                        \"Gender\", \"PremiumPupil\", \"Confidence\", \"MathType\", \"SchoolShift\"]\n",
    "\n",
    "for feature in categorical_features:\n",
    "    x_train[feature] = pd.Series(x_train[feature], dtype=\"category\")\n",
    "    x_test[feature] = pd.Series(x_test[feature], dtype=\"category\")"
   ]
  },
  {
   "cell_type": "code",
   "execution_count": 6,
   "id": "9f7a447b-e026-40d2-a747-111d1d2cfef0",
   "metadata": {},
   "outputs": [],
   "source": [
    "model = tree.DecisionTreeClassifier(\n",
    "    max_depth=12, \n",
    "    criterion='entropy', \n",
    "    min_samples_split=6, \n",
    "    min_samples_leaf=4,\n",
    "    random_state=0\n",
    ")"
   ]
  },
  {
   "cell_type": "code",
   "execution_count": 7,
   "id": "9730fade-8ca6-4f39-a0c1-1d3d8ff2947f",
   "metadata": {},
   "outputs": [],
   "source": [
    "model = model.fit(x_train, y_train)"
   ]
  },
  {
   "cell_type": "code",
   "execution_count": 8,
   "id": "3a8a4864-56f8-4e7d-9137-128d52be65ef",
   "metadata": {},
   "outputs": [],
   "source": [
    "y_predict = model.predict(x_test)"
   ]
  },
  {
   "cell_type": "code",
   "execution_count": 9,
   "id": "d93eb4db-7391-4b38-852d-64b7c35137bb",
   "metadata": {},
   "outputs": [
    {
     "data": {
      "text/plain": [
       "0.6481672130122683"
      ]
     },
     "execution_count": 9,
     "metadata": {},
     "output_type": "execute_result"
    }
   ],
   "source": [
    "accuracy_score(y_test, y_predict)"
   ]
  },
  {
   "cell_type": "code",
   "execution_count": 10,
   "id": "d6185ced-b19c-4bdd-8e3c-45e5b7784ab7",
   "metadata": {},
   "outputs": [
    {
     "name": "stdout",
     "output_type": "stream",
     "text": [
      "              precision    recall  f1-score   support\n",
      "\n",
      "           A       0.68      0.63      0.65    478895\n",
      "           B       0.64      0.65      0.64    517881\n",
      "           C       0.63      0.67      0.65    524238\n",
      "           D       0.65      0.64      0.65    462468\n",
      "\n",
      "    accuracy                           0.65   1983482\n",
      "   macro avg       0.65      0.65      0.65   1983482\n",
      "weighted avg       0.65      0.65      0.65   1983482\n",
      "\n"
     ]
    }
   ],
   "source": [
    "print(classification_report(y_test, y_predict, target_names=[\"A\", \"B\", \"C\", \"D\"]))"
   ]
  },
  {
   "cell_type": "code",
   "execution_count": 11,
   "id": "979932da-784d-419b-ba4a-080856c7166d",
   "metadata": {},
   "outputs": [],
   "source": [
    "df = pd.DataFrame(y_predict, columns =['DecisionTree'])\n",
    "df.to_csv(\"DecisionTree2.csv\", header=True, index=False)"
   ]
  }
 ],
 "metadata": {
  "kernelspec": {
   "display_name": "Python 3 (ipykernel)",
   "language": "python",
   "name": "python3"
  },
  "language_info": {
   "codemirror_mode": {
    "name": "ipython",
    "version": 3
   },
   "file_extension": ".py",
   "mimetype": "text/x-python",
   "name": "python",
   "nbconvert_exporter": "python",
   "pygments_lexer": "ipython3",
   "version": "3.9.7"
  }
 },
 "nbformat": 4,
 "nbformat_minor": 5
}
