{
 "cells": [
  {
   "cell_type": "code",
   "execution_count": 1,
   "id": "70aa0e92-f0be-43bd-90d1-534275b07590",
   "metadata": {},
   "outputs": [],
   "source": [
    "import pickle\n",
    "import pandas as pd\n",
    "\n",
    "from sklearn.ensemble import BaggingClassifier\n",
    "from sklearn.naive_bayes import GaussianNB\n",
    "from sklearn.metrics import classification_report, accuracy_score, confusion_matrix, roc_curve, roc_auc_score\n",
    "\n",
    "import matplotlib.pyplot as plt\n",
    "import seaborn as sns"
   ]
  },
  {
   "cell_type": "code",
   "execution_count": 2,
   "id": "ae16bd0e-8e87-488a-9b0b-d4dbf96e2d9b",
   "metadata": {},
   "outputs": [],
   "source": [
    "train = pd.read_csv(\"task2_allData.csv\")\n",
    "test_public = pd.read_csv(\"task2_public_test_data.csv\")\n",
    "test = pd.read_csv(\"task2_private_test_data.csv\")"
   ]
  },
  {
   "cell_type": "code",
   "execution_count": 3,
   "id": "e352bcb4-14da-4d02-a264-44221f09e2f7",
   "metadata": {},
   "outputs": [],
   "source": [
    "train = pd.merge(train, test_public, how = \"outer\")"
   ]
  },
  {
   "cell_type": "code",
   "execution_count": 4,
   "id": "c447c84e-8bc6-4240-ba78-4ec0286bb89a",
   "metadata": {},
   "outputs": [],
   "source": [
    "x_train = train.drop([\"AnswerValue\", \"AnswerId\"], axis=1)\n",
    "y_train = train.AnswerValue\n",
    "x_test = test.drop([\"AnswerValue\", \"AnswerId\"], axis=1)\n",
    "y_test = test.AnswerValue"
   ]
  },
  {
   "cell_type": "code",
   "execution_count": 5,
   "id": "8a0a7bd9-8565-4c15-b254-1c5d699a0444",
   "metadata": {},
   "outputs": [],
   "source": [
    "categorical_features = [\"UserId\", \"QuestionId\", \"QuizId\", \"GroupId\", \"SchemeOfWorkId\",\n",
    "                        \"Gender\", \"PremiumPupil\", \"Confidence\", \"MathType\", \"SchoolShift\"]\n",
    "\n",
    "for feature in categorical_features:\n",
    "    x_train[feature] = pd.Series(x_train[feature], dtype=\"category\")\n",
    "    x_test[feature] = pd.Series(x_test[feature], dtype=\"category\")"
   ]
  },
  {
   "cell_type": "code",
   "execution_count": 16,
   "id": "e3b04b33-8742-46ac-9dba-7c1a83061e17",
   "metadata": {},
   "outputs": [],
   "source": [
    "model = BaggingClassifier(base_estimator = GaussianNB(), n_estimators=20)"
   ]
  },
  {
   "cell_type": "code",
   "execution_count": 17,
   "id": "0590dcc2-993e-4d04-8157-11be81ebfe6c",
   "metadata": {},
   "outputs": [],
   "source": [
    "model = model.fit(x_train, y_train)"
   ]
  },
  {
   "cell_type": "code",
   "execution_count": 18,
   "id": "116f9952-90a9-48e0-aec0-9fde9e409854",
   "metadata": {},
   "outputs": [],
   "source": [
    "y_predict = model.predict(x_test)"
   ]
  },
  {
   "cell_type": "code",
   "execution_count": 19,
   "id": "c1de447b-4ec5-4d7b-a75c-ceac5caf8878",
   "metadata": {},
   "outputs": [
    {
     "data": {
      "text/plain": [
       "0.6350503810974841"
      ]
     },
     "execution_count": 19,
     "metadata": {},
     "output_type": "execute_result"
    }
   ],
   "source": [
    "accuracy_score(y_test, y_predict)"
   ]
  },
  {
   "cell_type": "markdown",
   "id": "8159d5d1-7ccf-4abd-8816-6720df6f3053",
   "metadata": {},
   "source": [
    "0.634288589460353"
   ]
  },
  {
   "cell_type": "code",
   "execution_count": 20,
   "id": "2e27eb84-1377-4c25-933a-6aefd259f6c0",
   "metadata": {},
   "outputs": [
    {
     "name": "stdout",
     "output_type": "stream",
     "text": [
      "              precision    recall  f1-score   support\n",
      "\n",
      "           A       0.64      0.64      0.64    478895\n",
      "           B       0.64      0.62      0.63    517881\n",
      "           C       0.63      0.64      0.64    524238\n",
      "           D       0.63      0.64      0.63    462468\n",
      "\n",
      "    accuracy                           0.64   1983482\n",
      "   macro avg       0.63      0.64      0.64   1983482\n",
      "weighted avg       0.64      0.64      0.64   1983482\n",
      "\n"
     ]
    }
   ],
   "source": [
    "print(classification_report(y_test, y_predict, target_names=[\"A\", \"B\", \"C\", \"D\"]))"
   ]
  },
  {
   "cell_type": "code",
   "execution_count": 21,
   "id": "48e49ed5-6230-4611-9377-de357bd18f5a",
   "metadata": {},
   "outputs": [],
   "source": [
    "df = pd.DataFrame(y_predict, columns =['BaggingNB'])\n",
    "df.to_csv(\"BaggingNB2.csv\", header=True, index=False)"
   ]
  }
 ],
 "metadata": {
  "kernelspec": {
   "display_name": "Python 3 (ipykernel)",
   "language": "python",
   "name": "python3"
  },
  "language_info": {
   "codemirror_mode": {
    "name": "ipython",
    "version": 3
   },
   "file_extension": ".py",
   "mimetype": "text/x-python",
   "name": "python",
   "nbconvert_exporter": "python",
   "pygments_lexer": "ipython3",
   "version": "3.9.7"
  }
 },
 "nbformat": 4,
 "nbformat_minor": 5
}
