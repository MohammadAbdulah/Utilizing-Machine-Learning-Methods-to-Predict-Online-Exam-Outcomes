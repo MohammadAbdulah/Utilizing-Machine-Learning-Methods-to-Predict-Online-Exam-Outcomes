{
 "cells": [
  {
   "cell_type": "code",
   "execution_count": 5,
   "id": "0cb0d9f5-4ddd-4989-a17b-380adf6b231a",
   "metadata": {},
   "outputs": [],
   "source": [
    "import pandas as pd\n",
    "from sklearn.naive_bayes import GaussianNB\n",
    "from sklearn.metrics import classification_report, accuracy_score"
   ]
  },
  {
   "cell_type": "code",
   "execution_count": 6,
   "id": "aecb16bb-1c80-4411-80a3-d338143a69d3",
   "metadata": {},
   "outputs": [],
   "source": [
    "train = pd.read_csv(\"task2_allData.csv\")\n",
    "test_public = pd.read_csv(\"task2_public_test_data.csv\")\n",
    "test = pd.read_csv(\"task2_private_test_data.csv\")"
   ]
  },
  {
   "cell_type": "code",
   "execution_count": 4,
   "id": "278762df-46c2-415b-9b48-ea40fb150088",
   "metadata": {},
   "outputs": [],
   "source": [
    "test = pd.merge(test_public, test, how = \"outer\")"
   ]
  },
  {
   "cell_type": "code",
   "execution_count": 8,
   "id": "eedd2a49-26ff-47f5-82df-abac7a037d9a",
   "metadata": {},
   "outputs": [],
   "source": [
    "x_train = train.drop([\"AnswerValue\", \"AnswerId\"], axis=1)\n",
    "y_train = train.AnswerValue\n",
    "x_test = test.drop([\"AnswerValue\", \"AnswerId\"], axis=1)\n",
    "y_test = test.AnswerValue"
   ]
  },
  {
   "cell_type": "code",
   "execution_count": 9,
   "id": "10e70da1-9df6-44fa-b33c-d53fdda5b4b9",
   "metadata": {},
   "outputs": [],
   "source": [
    "categorical_features = [\"UserId\", \"QuestionId\", \"QuizId\", \"GroupId\", \"SchemeOfWorkId\",\n",
    "                        \"Gender\", \"PremiumPupil\", \"Confidence\", \"MathType\", \"SchoolShift\"]\n",
    "\n",
    "for feature in categorical_features:\n",
    "    x_train[feature] = pd.Series(x_train[feature], dtype=\"category\")\n",
    "    x_test[feature] = pd.Series(x_test[feature], dtype=\"category\")"
   ]
  },
  {
   "cell_type": "code",
   "execution_count": 10,
   "id": "b265e6fb-0328-45e6-bd85-3b9f7f8b7ff5",
   "metadata": {},
   "outputs": [
    {
     "name": "stdout",
     "output_type": "stream",
     "text": [
      "private  0.6347635118443222\n"
     ]
    }
   ],
   "source": [
    "model = GaussianNB()\n",
    "model.fit(x_train, y_train)\n",
    "\n",
    "y_predict = model.predict(x_test)\n",
    "print('private ', accuracy_score(y_test, y_predict))"
   ]
  },
  {
   "cell_type": "code",
   "execution_count": 11,
   "id": "c609221f-83e3-4725-9b64-a08de2d351fb",
   "metadata": {},
   "outputs": [
    {
     "name": "stdout",
     "output_type": "stream",
     "text": [
      "              precision    recall  f1-score   support\n",
      "\n",
      "           A       0.63      0.64      0.64    478895\n",
      "           B       0.64      0.62      0.63    517881\n",
      "           C       0.64      0.64      0.64    524238\n",
      "           D       0.63      0.64      0.63    462468\n",
      "\n",
      "    accuracy                           0.63   1983482\n",
      "   macro avg       0.63      0.63      0.63   1983482\n",
      "weighted avg       0.63      0.63      0.63   1983482\n",
      "\n"
     ]
    }
   ],
   "source": [
    "print(classification_report(y_test, y_predict, target_names=[\"A\", \"B\", \"C\", \"D\"]))"
   ]
  },
  {
   "cell_type": "code",
   "execution_count": 12,
   "id": "714e2799-4948-409d-87e5-e2e2a040f8d0",
   "metadata": {},
   "outputs": [],
   "source": [
    "df = pd.DataFrame(y_predict, columns =['NaiveBayes'])"
   ]
  },
  {
   "cell_type": "code",
   "execution_count": 13,
   "id": "5537fda8-722f-4c70-b272-88b8e389add7",
   "metadata": {},
   "outputs": [],
   "source": [
    "df.to_csv(\"NaiveBayes2.csv\", header=True, index=False)"
   ]
  },
  {
   "cell_type": "code",
   "execution_count": 14,
   "id": "4643a252-85a0-46ea-8cc5-478d14bc4f86",
   "metadata": {},
   "outputs": [],
   "source": [
    "import pickle\n",
    "pickle.dump(model, open(\"NaiveBayes2.sav\", 'wb'))"
   ]
  }
 ],
 "metadata": {
  "kernelspec": {
   "display_name": "Python 3 (ipykernel)",
   "language": "python",
   "name": "python3"
  },
  "language_info": {
   "codemirror_mode": {
    "name": "ipython",
    "version": 3
   },
   "file_extension": ".py",
   "mimetype": "text/x-python",
   "name": "python",
   "nbconvert_exporter": "python",
   "pygments_lexer": "ipython3",
   "version": "3.9.7"
  }
 },
 "nbformat": 4,
 "nbformat_minor": 5
}
