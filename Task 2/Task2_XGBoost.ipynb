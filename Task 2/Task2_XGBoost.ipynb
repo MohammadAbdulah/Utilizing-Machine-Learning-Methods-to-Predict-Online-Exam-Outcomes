{
 "cells": [
  {
   "cell_type": "code",
   "execution_count": 1,
   "id": "f75674a6-7f1a-4d30-b003-c75f2c0f7557",
   "metadata": {},
   "outputs": [],
   "source": [
    "import pickle\n",
    "import pandas as pd\n",
    "import numpy as np\n",
    "\n",
    "from sklearn.metrics import classification_report, accuracy_score, confusion_matrix, mean_squared_error\n",
    "from sklearn.model_selection import cross_val_score, GridSearchCV, KFold, RandomizedSearchCV\n",
    "import xgboost as xgb\n",
    "\n",
    "import matplotlib.pyplot as plt\n",
    "import seaborn as sns"
   ]
  },
  {
   "cell_type": "code",
   "execution_count": 2,
   "id": "f200fa2f-4e06-4b98-8faa-a5e1330296a8",
   "metadata": {},
   "outputs": [],
   "source": [
    "train = pd.read_csv(\"task2_allData.csv\")\n",
    "test_public = pd.read_csv(\"task2_public_test_data.csv\")\n",
    "test = pd.read_csv(\"task2_private_test_data.csv\")"
   ]
  },
  {
   "cell_type": "code",
   "execution_count": 3,
   "id": "a5012800-3ea7-464c-b531-9dca4a4109a0",
   "metadata": {},
   "outputs": [],
   "source": [
    "train = pd.merge(train, test_public, how = \"outer\")"
   ]
  },
  {
   "cell_type": "code",
   "execution_count": 4,
   "id": "4cd030cb-e950-42d8-a4d5-61bb3af1220e",
   "metadata": {},
   "outputs": [],
   "source": [
    "x_train = train.drop([\"AnswerValue\", \"AnswerId\"], axis=1)\n",
    "y_train = train.AnswerValue\n",
    "x_test = test.drop([\"AnswerValue\", \"AnswerId\"], axis=1)\n",
    "y_test = test.AnswerValue"
   ]
  },
  {
   "cell_type": "code",
   "execution_count": 5,
   "id": "766ec970-02e5-4417-b9bb-bced9ad10a3e",
   "metadata": {},
   "outputs": [],
   "source": [
    "y_train = y_train.apply(lambda x: x - 1)\n",
    "y_test = y_test.apply(lambda x: x - 1)"
   ]
  },
  {
   "cell_type": "code",
   "execution_count": 6,
   "id": "649f315b-bad3-4c4a-b299-cbe06886df34",
   "metadata": {},
   "outputs": [],
   "source": [
    "xgb_model = xgb.XGBRegressor(\n",
    "    objective=\"multi:softmax\",\n",
    "    random_state=0,\n",
    "    num_class=4,\n",
    "    n_estimators=50,\n",
    "    max_depth=12,\n",
    "    )"
   ]
  },
  {
   "cell_type": "code",
   "execution_count": 7,
   "id": "04aa24aa-a412-47e7-b8ce-9c3c4fd3f24b",
   "metadata": {
    "tags": []
   },
   "outputs": [
    {
     "name": "stdout",
     "output_type": "stream",
     "text": [
      "[12:54:20] WARNING: ../src/learner.cc:1115: Starting in XGBoost 1.3.0, the default evaluation metric used with the objective 'multi:softmax' was changed from 'merror' to 'mlogloss'. Explicitly set eval_metric if you'd like to restore the old behavior.\n"
     ]
    }
   ],
   "source": [
    "xgb_model = xgb_model.fit(x_train, y_train)"
   ]
  },
  {
   "cell_type": "code",
   "execution_count": 8,
   "id": "46c4e0f3-4783-42af-8710-0f5050ce90b1",
   "metadata": {},
   "outputs": [],
   "source": [
    "y_predict = xgb_model.predict(x_test)"
   ]
  },
  {
   "cell_type": "code",
   "execution_count": 9,
   "id": "7564ccea-477e-42b9-935f-3f8963059bac",
   "metadata": {},
   "outputs": [
    {
     "data": {
      "text/plain": [
       "0.653280947344115"
      ]
     },
     "execution_count": 9,
     "metadata": {},
     "output_type": "execute_result"
    }
   ],
   "source": [
    "accuracy_score(y_test, y_predict)"
   ]
  },
  {
   "cell_type": "code",
   "execution_count": 10,
   "id": "e86bb25a-66d1-49fb-a056-0786e7a7daf9",
   "metadata": {},
   "outputs": [
    {
     "name": "stdout",
     "output_type": "stream",
     "text": [
      "              precision    recall  f1-score   support\n",
      "\n",
      "           A       0.68      0.64      0.66    478895\n",
      "           B       0.64      0.66      0.65    517881\n",
      "           C       0.64      0.67      0.66    524238\n",
      "           D       0.66      0.64      0.65    462468\n",
      "\n",
      "    accuracy                           0.65   1983482\n",
      "   macro avg       0.65      0.65      0.65   1983482\n",
      "weighted avg       0.65      0.65      0.65   1983482\n",
      "\n"
     ]
    }
   ],
   "source": [
    "print(classification_report(y_test, y_predict, target_names=[\"A\", \"B\", \"C\", \"D\"]))"
   ]
  },
  {
   "cell_type": "code",
   "execution_count": 12,
   "id": "29f42f6f-2178-4c68-87ef-ed1d8eb972aa",
   "metadata": {},
   "outputs": [],
   "source": [
    "df = pd.DataFrame(y_predict, columns =['XGBoost'])\n",
    "df.to_csv(\"XGBoost.csv\", header=True, index=False)"
   ]
  },
  {
   "cell_type": "code",
   "execution_count": 16,
   "id": "282d39f3-31e6-4ef5-ba4e-4bfa3a5072e3",
   "metadata": {},
   "outputs": [],
   "source": [
    "pickle.dump(xgb_model, open(\"./models/XGB.sav\", 'wb'))"
   ]
  }
 ],
 "metadata": {
  "kernelspec": {
   "display_name": "Python 3 (ipykernel)",
   "language": "python",
   "name": "python3"
  },
  "language_info": {
   "codemirror_mode": {
    "name": "ipython",
    "version": 3
   },
   "file_extension": ".py",
   "mimetype": "text/x-python",
   "name": "python",
   "nbconvert_exporter": "python",
   "pygments_lexer": "ipython3",
   "version": "3.9.7"
  }
 },
 "nbformat": 4,
 "nbformat_minor": 5
}
