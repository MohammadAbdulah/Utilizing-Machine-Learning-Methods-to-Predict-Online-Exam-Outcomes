{
 "cells": [
  {
   "cell_type": "code",
   "execution_count": 1,
   "id": "0cb0d9f5-4ddd-4989-a17b-380adf6b231a",
   "metadata": {},
   "outputs": [],
   "source": [
    "import pandas as pd\n",
    "from catboost import CatBoostClassifier\n",
    "from sklearn.metrics import accuracy_score, classification_report\n",
    "import matplotlib.pyplot as plt"
   ]
  },
  {
   "cell_type": "code",
   "execution_count": 2,
   "id": "a27f30b6-c6bf-422f-82ac-65d874bf4a17",
   "metadata": {},
   "outputs": [],
   "source": [
    "train = pd.read_csv(\"task1_allData.csv\")\n",
    "test_public = pd.read_csv(\"task1_public_test_data_.csv\")\n",
    "test = pd.read_csv(\"task1_private_test_data.csv\")"
   ]
  },
  {
   "cell_type": "code",
   "execution_count": 3,
   "id": "e924cc12-04e6-453c-9795-dc16f3379e4f",
   "metadata": {},
   "outputs": [],
   "source": [
    "test = pd.merge(test_public, test, how = \"outer\")"
   ]
  },
  {
   "cell_type": "code",
   "execution_count": 4,
   "id": "8d57b967-2f25-4273-a53f-c7ac8a6242cc",
   "metadata": {},
   "outputs": [],
   "source": [
    "y_train = train[\"IsCorrect\"]\n",
    "x_train = train.drop([\"IsCorrect\", \"AnswerId\"], axis=1)\n",
    "y_test = test[\"IsCorrect\"]\n",
    "x_test = test.drop([\"IsCorrect\", \"AnswerId\"], axis=1)"
   ]
  },
  {
   "cell_type": "code",
   "execution_count": 5,
   "id": "52ceed07-a7be-4f2b-930e-dd9962e1639b",
   "metadata": {},
   "outputs": [],
   "source": [
    "x_train[\"SchemeOfWorkId\"] = x_train[\"SchemeOfWorkId\"].astype(int)\n",
    "x_train[\"PremiumPupil\"] = x_train[\"PremiumPupil\"].astype(int)\n",
    "x_train[\"Confidence\"] = x_train[\"Confidence\"].astype(int)\n",
    "\n",
    "x_test[\"SchemeOfWorkId\"] = x_test[\"SchemeOfWorkId\"].astype(int)\n",
    "x_test[\"PremiumPupil\"] = x_test[\"PremiumPupil\"].astype(int)\n",
    "x_test[\"Confidence\"] = x_test[\"Confidence\"].astype(int)"
   ]
  },
  {
   "cell_type": "code",
   "execution_count": 6,
   "id": "d42ab777-ef3c-4257-869e-c32145b799dd",
   "metadata": {},
   "outputs": [],
   "source": [
    "model = CatBoostClassifier(\n",
    "    iterations=4,\n",
    "    cat_features=[\"UserId\", \"QuestionId\", \"QuizId\", \"GroupId\", \"SchemeOfWorkId\",\n",
    "                  \"Gender\", \"PremiumPupil\", \"Confidence\", \"MathType\", \"SchoolShift\"],\n",
    "    verbose=2\n",
    ")"
   ]
  },
  {
   "cell_type": "code",
   "execution_count": 7,
   "id": "37f32b05-2b37-41d9-9f14-d1c49081c7c2",
   "metadata": {
    "tags": []
   },
   "outputs": [
    {
     "name": "stdout",
     "output_type": "stream",
     "text": [
      "Learning rate set to 0.5\n",
      "0:\tlearn: 0.5671803\ttotal: 4.5s\tremaining: 13.5s\n",
      "2:\tlearn: 0.5269787\ttotal: 13.4s\tremaining: 4.46s\n",
      "3:\tlearn: 0.5224557\ttotal: 16.6s\tremaining: 0us\n",
      "private  0.7302805697960884\n"
     ]
    }
   ],
   "source": [
    "model.fit(x_train, y_train)\n",
    "\n",
    "y_predict = model.predict(x_test)\n",
    "print('private ', accuracy_score(y_test, y_predict))"
   ]
  },
  {
   "cell_type": "code",
   "execution_count": 8,
   "id": "61f6cf84-7486-4671-831e-3d569b12f703",
   "metadata": {},
   "outputs": [
    {
     "name": "stdout",
     "output_type": "stream",
     "text": [
      "                precision    recall  f1-score   support\n",
      "\n",
      "  Wrong Answer       0.64      0.56      0.60   1415961\n",
      "Correct Answer       0.77      0.83      0.80   2551002\n",
      "\n",
      "      accuracy                           0.73   3966963\n",
      "     macro avg       0.71      0.69      0.70   3966963\n",
      "  weighted avg       0.72      0.73      0.73   3966963\n",
      "\n"
     ]
    }
   ],
   "source": [
    "print(classification_report(y_test, y_predict, target_names=[\"Wrong Answer\", \"Correct Answer\"]))"
   ]
  },
  {
   "cell_type": "code",
   "execution_count": 9,
   "id": "a9fea09d-25e2-4664-9f84-2ef2fe6c3dc5",
   "metadata": {},
   "outputs": [],
   "source": [
    "df = pd.DataFrame(y_predict, columns =['CatBoost'])\n",
    "df.to_csv(\"CatBoost1.csv\", header=True, index=False)"
   ]
  },
  {
   "cell_type": "code",
   "execution_count": 6,
   "id": "438cadb7-a328-4c06-be61-fa14dbf2ea60",
   "metadata": {},
   "outputs": [],
   "source": [
    "import pickle\n",
    "pickle.dump(model, open(\"CatBoost.sav\", 'wb'))"
   ]
  }
 ],
 "metadata": {
  "kernelspec": {
   "display_name": "Python 3 (ipykernel)",
   "language": "python",
   "name": "python3"
  },
  "language_info": {
   "codemirror_mode": {
    "name": "ipython",
    "version": 3
   },
   "file_extension": ".py",
   "mimetype": "text/x-python",
   "name": "python",
   "nbconvert_exporter": "python",
   "pygments_lexer": "ipython3",
   "version": "3.9.7"
  }
 },
 "nbformat": 4,
 "nbformat_minor": 5
}
