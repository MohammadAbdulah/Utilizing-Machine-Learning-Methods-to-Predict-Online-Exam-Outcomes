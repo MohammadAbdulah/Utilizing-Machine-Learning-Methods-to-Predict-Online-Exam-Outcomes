{
 "cells": [
  {
   "cell_type": "code",
   "execution_count": 1,
   "id": "70aa0e92-f0be-43bd-90d1-534275b07590",
   "metadata": {},
   "outputs": [],
   "source": [
    "import pickle\n",
    "import pandas as pd\n",
    "\n",
    "from sklearn.ensemble import BaggingClassifier\n",
    "from sklearn.naive_bayes import GaussianNB\n",
    "from sklearn.metrics import classification_report, accuracy_score, confusion_matrix, roc_curve, roc_auc_score\n",
    "\n",
    "import matplotlib.pyplot as plt\n",
    "import seaborn as sns"
   ]
  },
  {
   "cell_type": "code",
   "execution_count": 2,
   "id": "ae16bd0e-8e87-488a-9b0b-d4dbf96e2d9b",
   "metadata": {},
   "outputs": [],
   "source": [
    "train = pd.read_csv(\"task1_allData.csv\")\n",
    "test_public = pd.read_csv(\"task1_public_test_data_.csv\")\n",
    "test = pd.read_csv(\"task1_private_test_data.csv\")"
   ]
  },
  {
   "cell_type": "code",
   "execution_count": 3,
   "id": "e352bcb4-14da-4d02-a264-44221f09e2f7",
   "metadata": {},
   "outputs": [],
   "source": [
    "test = pd.merge(test, test_public, how = \"outer\")"
   ]
  },
  {
   "cell_type": "code",
   "execution_count": 4,
   "id": "c447c84e-8bc6-4240-ba78-4ec0286bb89a",
   "metadata": {},
   "outputs": [],
   "source": [
    "y_train = train[\"IsCorrect\"]\n",
    "x_train = train.drop([\"IsCorrect\", \"AnswerId\"], axis=1)\n",
    "y_test = test[\"IsCorrect\"]\n",
    "x_test = test.drop([\"IsCorrect\", \"AnswerId\"], axis=1)"
   ]
  },
  {
   "cell_type": "code",
   "execution_count": 5,
   "id": "8a0a7bd9-8565-4c15-b254-1c5d699a0444",
   "metadata": {},
   "outputs": [],
   "source": [
    "categorical_features = [\"UserId\", \"QuestionId\", \"QuizId\", \"GroupId\", \"SchemeOfWorkId\",\n",
    "                        \"Gender\", \"PremiumPupil\", \"Confidence\", \"MathType\", \"SchoolShift\"]\n",
    "\n",
    "for feature in categorical_features:\n",
    "    x_train[feature] = pd.Series(x_train[feature], dtype=\"category\")\n",
    "    x_test[feature] = pd.Series(x_test[feature], dtype=\"category\")"
   ]
  },
  {
   "cell_type": "code",
   "execution_count": 6,
   "id": "e3b04b33-8742-46ac-9dba-7c1a83061e17",
   "metadata": {},
   "outputs": [],
   "source": [
    "model = BaggingClassifier(base_estimator = GaussianNB(), n_estimators=20)"
   ]
  },
  {
   "cell_type": "code",
   "execution_count": 7,
   "id": "0590dcc2-993e-4d04-8157-11be81ebfe6c",
   "metadata": {},
   "outputs": [],
   "source": [
    "model = model.fit(x_train, y_train)"
   ]
  },
  {
   "cell_type": "code",
   "execution_count": 8,
   "id": "116f9952-90a9-48e0-aec0-9fde9e409854",
   "metadata": {},
   "outputs": [],
   "source": [
    "y_predict = model.predict(x_test)"
   ]
  },
  {
   "cell_type": "code",
   "execution_count": 9,
   "id": "c1de447b-4ec5-4d7b-a75c-ceac5caf8878",
   "metadata": {},
   "outputs": [
    {
     "data": {
      "text/plain": [
       "0.6281331587917508"
      ]
     },
     "execution_count": 9,
     "metadata": {},
     "output_type": "execute_result"
    }
   ],
   "source": [
    "accuracy_score(y_test, y_predict)"
   ]
  },
  {
   "cell_type": "code",
   "execution_count": 10,
   "id": "2e27eb84-1377-4c25-933a-6aefd259f6c0",
   "metadata": {},
   "outputs": [
    {
     "name": "stdout",
     "output_type": "stream",
     "text": [
      "                precision    recall  f1-score   support\n",
      "\n",
      "  Wrong Answer       0.45      0.19      0.27   1415961\n",
      "Correct Answer       0.66      0.87      0.75   2551002\n",
      "\n",
      "      accuracy                           0.63   3966963\n",
      "     macro avg       0.56      0.53      0.51   3966963\n",
      "  weighted avg       0.59      0.63      0.58   3966963\n",
      "\n"
     ]
    }
   ],
   "source": [
    "print(classification_report(y_test, y_predict, target_names=[\"Wrong Answer\", \"Correct Answer\"]))"
   ]
  },
  {
   "cell_type": "code",
   "execution_count": 11,
   "id": "48e49ed5-6230-4611-9377-de357bd18f5a",
   "metadata": {},
   "outputs": [],
   "source": [
    "df = pd.DataFrame(y_predict, columns =['BaggingNB'])\n",
    "df.to_csv(\"BaggingNB1.csv\", header=True, index=False)"
   ]
  }
 ],
 "metadata": {
  "kernelspec": {
   "display_name": "Python 3 (ipykernel)",
   "language": "python",
   "name": "python3"
  },
  "language_info": {
   "codemirror_mode": {
    "name": "ipython",
    "version": 3
   },
   "file_extension": ".py",
   "mimetype": "text/x-python",
   "name": "python",
   "nbconvert_exporter": "python",
   "pygments_lexer": "ipython3",
   "version": "3.9.7"
  }
 },
 "nbformat": 4,
 "nbformat_minor": 5
}
