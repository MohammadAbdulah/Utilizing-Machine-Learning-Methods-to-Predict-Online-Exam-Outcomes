{
 "cells": [
  {
   "cell_type": "code",
   "execution_count": 1,
   "id": "d1f42fad-f5f6-4c56-9e2a-ea86fa8177d8",
   "metadata": {},
   "outputs": [],
   "source": [
    "import pickle\n",
    "import pandas as pd\n",
    "\n",
    "from sklearn.ensemble import AdaBoostClassifier\n",
    "from sklearn.metrics import classification_report, accuracy_score\n",
    "\n",
    "import matplotlib.pyplot as plt\n",
    "import seaborn as sns"
   ]
  },
  {
   "cell_type": "code",
   "execution_count": 2,
   "id": "29b1cfa5-4200-44af-ae06-3194ec9a93d2",
   "metadata": {},
   "outputs": [],
   "source": [
    "train = pd.read_csv(\"task1_allData.csv\")\n",
    "test_public = pd.read_csv(\"task1_public_test_data_.csv\")\n",
    "test = pd.read_csv(\"task1_private_test_data.csv\")"
   ]
  },
  {
   "cell_type": "code",
   "execution_count": 3,
   "id": "1851641c-241c-4b46-8de7-a23a3bdca228",
   "metadata": {},
   "outputs": [],
   "source": [
    "test = pd.merge(test, test_public, how = \"outer\")"
   ]
  },
  {
   "cell_type": "code",
   "execution_count": 4,
   "id": "926107b7-e49b-4a41-8650-6d4c6d54f448",
   "metadata": {},
   "outputs": [],
   "source": [
    "y_train = train[\"IsCorrect\"]\n",
    "x_train = train.drop([\"IsCorrect\", \"AnswerId\"], axis=1)\n",
    "y_test = test[\"IsCorrect\"]\n",
    "x_test = test.drop([\"IsCorrect\", \"AnswerId\"], axis=1)"
   ]
  },
  {
   "cell_type": "code",
   "execution_count": 5,
   "id": "1cececb5-c116-4e8f-a4bf-9cb0b5c92df3",
   "metadata": {},
   "outputs": [],
   "source": [
    "categorical_features = [\"UserId\", \"QuestionId\", \"QuizId\", \"GroupId\", \"SchemeOfWorkId\",\n",
    "                        \"Gender\", \"PremiumPupil\", \"Confidence\", \"MathType\", \"SchoolShift\"]\n",
    "\n",
    "for feature in categorical_features:\n",
    "    x_train[feature] = pd.Series(x_train[feature], dtype=\"category\")\n",
    "    x_test[feature] = pd.Series(x_test[feature], dtype=\"category\")"
   ]
  },
  {
   "cell_type": "code",
   "execution_count": 6,
   "id": "03f548c8-a362-4528-bac8-b7e96bd8a550",
   "metadata": {},
   "outputs": [],
   "source": [
    "model = AdaBoostClassifier(n_estimators=50, learning_rate=1)"
   ]
  },
  {
   "cell_type": "code",
   "execution_count": 7,
   "id": "22429b56-56b9-40b7-ae75-7f58384aee7e",
   "metadata": {},
   "outputs": [
    {
     "data": {
      "text/plain": [
       "AdaBoostClassifier(learning_rate=1)"
      ]
     },
     "execution_count": 7,
     "metadata": {},
     "output_type": "execute_result"
    }
   ],
   "source": [
    "model.fit(x_train, y_train)"
   ]
  },
  {
   "cell_type": "code",
   "execution_count": 8,
   "id": "2a13e5e8-4154-4edf-b42e-4905206e2c80",
   "metadata": {},
   "outputs": [],
   "source": [
    "y_predict = model.predict(x_test)"
   ]
  },
  {
   "cell_type": "code",
   "execution_count": 9,
   "id": "5188b458-8869-4637-bcbb-22f9e543ac38",
   "metadata": {},
   "outputs": [
    {
     "data": {
      "text/plain": [
       "0.7295550777761224"
      ]
     },
     "execution_count": 9,
     "metadata": {},
     "output_type": "execute_result"
    }
   ],
   "source": [
    "accuracy_score(y_test, y_predict)"
   ]
  },
  {
   "cell_type": "code",
   "execution_count": 10,
   "id": "81fcc01e-5ab4-4b40-bb33-2a8fbb7c0211",
   "metadata": {},
   "outputs": [
    {
     "name": "stdout",
     "output_type": "stream",
     "text": [
      "                precision    recall  f1-score   support\n",
      "\n",
      "  Wrong Answer       0.65      0.51      0.58   1415961\n",
      "Correct Answer       0.76      0.85      0.80   2551002\n",
      "\n",
      "      accuracy                           0.73   3966963\n",
      "     macro avg       0.71      0.68      0.69   3966963\n",
      "  weighted avg       0.72      0.73      0.72   3966963\n",
      "\n"
     ]
    }
   ],
   "source": [
    "print(classification_report(y_test, y_predict, target_names=[\"Wrong Answer\", \"Correct Answer\"]))"
   ]
  },
  {
   "cell_type": "code",
   "execution_count": 11,
   "id": "964c3f0c-9f9a-44b4-b477-16342fc3863c",
   "metadata": {},
   "outputs": [],
   "source": [
    "df = pd.DataFrame(y_predict, columns =['AdaBoost'])\n",
    "df.to_csv(\"AdaBoost1.csv\", header=True, index=False)"
   ]
  }
 ],
 "metadata": {
  "kernelspec": {
   "display_name": "Python 3 (ipykernel)",
   "language": "python",
   "name": "python3"
  },
  "language_info": {
   "codemirror_mode": {
    "name": "ipython",
    "version": 3
   },
   "file_extension": ".py",
   "mimetype": "text/x-python",
   "name": "python",
   "nbconvert_exporter": "python",
   "pygments_lexer": "ipython3",
   "version": "3.9.7"
  }
 },
 "nbformat": 4,
 "nbformat_minor": 5
}
