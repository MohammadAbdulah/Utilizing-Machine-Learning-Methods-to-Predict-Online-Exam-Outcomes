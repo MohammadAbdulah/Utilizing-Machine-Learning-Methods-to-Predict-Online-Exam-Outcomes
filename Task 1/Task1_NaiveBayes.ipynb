{
 "cells": [
  {
   "cell_type": "code",
   "execution_count": 1,
   "id": "0cb0d9f5-4ddd-4989-a17b-380adf6b231a",
   "metadata": {},
   "outputs": [],
   "source": [
    "import pandas as pd\n",
    "from sklearn.naive_bayes import GaussianNB\n",
    "from sklearn.metrics import classification_report, accuracy_score"
   ]
  },
  {
   "cell_type": "code",
   "execution_count": 3,
   "id": "c213544a-13de-4c52-a77f-a84393ae7306",
   "metadata": {},
   "outputs": [],
   "source": [
    "train = pd.read_csv(\"task1_allData.csv\")\n",
    "test_public = pd.read_csv(\"task1_public_test_data_.csv\")\n",
    "test = pd.read_csv(\"task1_private_test_data.csv\")"
   ]
  },
  {
   "cell_type": "code",
   "execution_count": 8,
   "id": "d99069f2-a7c8-45da-aa8f-8e9ed1112454",
   "metadata": {},
   "outputs": [],
   "source": [
    "test = pd.merge(test, test_public, how = \"outer\")"
   ]
  },
  {
   "cell_type": "code",
   "execution_count": 12,
   "id": "ce976461-7c50-416f-9829-4daca7f04610",
   "metadata": {},
   "outputs": [],
   "source": [
    "y_train = train[\"IsCorrect\"]\n",
    "x_train = train.drop([\"IsCorrect\", \"AnswerId\"], axis=1)\n",
    "y_test = test[\"IsCorrect\"]\n",
    "x_test = test.drop([\"IsCorrect\", \"AnswerId\"], axis=1)"
   ]
  },
  {
   "cell_type": "code",
   "execution_count": 13,
   "id": "10e70da1-9df6-44fa-b33c-d53fdda5b4b9",
   "metadata": {},
   "outputs": [],
   "source": [
    "categorical_features = [\"UserId\", \"QuestionId\", \"QuizId\", \"GroupId\", \"SchemeOfWorkId\",\n",
    "                        \"Gender\", \"PremiumPupil\", \"Confidence\", \"MathType\", \"SchoolShift\"]\n",
    "\n",
    "for feature in categorical_features:\n",
    "    x_train[feature] = pd.Series(x_train[feature], dtype=\"category\")\n",
    "    x_test[feature] = pd.Series(x_test[feature], dtype=\"category\")"
   ]
  },
  {
   "cell_type": "code",
   "execution_count": 14,
   "id": "2fa34b54-b511-44cb-af3e-6652f2fa29cd",
   "metadata": {},
   "outputs": [
    {
     "name": "stdout",
     "output_type": "stream",
     "text": [
      "test  0.6280214864620618\n"
     ]
    }
   ],
   "source": [
    "model = GaussianNB()\n",
    "model.fit(x_train, y_train)\n",
    "y_predict = model.predict(x_test)\n",
    "print('test ', accuracy_score(y_test, y_predict))"
   ]
  },
  {
   "cell_type": "code",
   "execution_count": 15,
   "id": "c609221f-83e3-4725-9b64-a08de2d351fb",
   "metadata": {},
   "outputs": [
    {
     "name": "stdout",
     "output_type": "stream",
     "text": [
      "                precision    recall  f1-score   support\n",
      "\n",
      "  Wrong Answer       0.45      0.20      0.28   1415961\n",
      "Correct Answer       0.66      0.87      0.75   2551002\n",
      "\n",
      "      accuracy                           0.63   3966963\n",
      "     macro avg       0.56      0.53      0.51   3966963\n",
      "  weighted avg       0.59      0.63      0.58   3966963\n",
      "\n"
     ]
    }
   ],
   "source": [
    "print(classification_report(y_test, y_predict, target_names=[\"Wrong Answer\", \"Correct Answer\"]))"
   ]
  },
  {
   "cell_type": "code",
   "execution_count": 16,
   "id": "714e2799-4948-409d-87e5-e2e2a040f8d0",
   "metadata": {},
   "outputs": [],
   "source": [
    "df = pd.DataFrame(y_predict, columns =['NaiveBayes'])"
   ]
  },
  {
   "cell_type": "code",
   "execution_count": 17,
   "id": "5537fda8-722f-4c70-b272-88b8e389add7",
   "metadata": {},
   "outputs": [],
   "source": [
    "df.to_csv(\"NaiveBayes1.csv\", header=True, index=False)"
   ]
  },
  {
   "cell_type": "code",
   "execution_count": 5,
   "id": "6cb8deae-1e7d-4f89-bc50-212b453eb0d5",
   "metadata": {},
   "outputs": [],
   "source": [
    "import pickle\n",
    "pickle.dump(model, open(\"NaiveBayes.sav\", 'wb'))"
   ]
  }
 ],
 "metadata": {
  "kernelspec": {
   "display_name": "Python 3 (ipykernel)",
   "language": "python",
   "name": "python3"
  },
  "language_info": {
   "codemirror_mode": {
    "name": "ipython",
    "version": 3
   },
   "file_extension": ".py",
   "mimetype": "text/x-python",
   "name": "python",
   "nbconvert_exporter": "python",
   "pygments_lexer": "ipython3",
   "version": "3.9.7"
  }
 },
 "nbformat": 4,
 "nbformat_minor": 5
}
